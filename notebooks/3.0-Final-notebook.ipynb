{
 "cells": [
  {
   "cell_type": "code",
   "execution_count": 4,
   "id": "fefd327f",
   "metadata": {},
   "outputs": [],
   "source": [
    "%load_ext autoreload\n",
    "%autoreload 2"
   ]
  },
  {
   "cell_type": "markdown",
   "id": "6bcb0048",
   "metadata": {},
   "source": [
    "# Data Splitting"
   ]
  },
  {
   "cell_type": "code",
   "execution_count": 159,
   "id": "5f273a34",
   "metadata": {},
   "outputs": [],
   "source": [
    "import pandas as pd\n",
    "\n",
    "from src.data.split_data import DataSplitter\n",
    "from src.data.preprocessing import DataProcessor\n",
    "from src.features.BOW import BOW\n",
    "from src.features.TFIDF import TFIDF\n",
    "from src.models.model_representation import Model\n",
    "\n",
    "from sklearn.naive_bayes import MultinomialNB\n",
    "from sklearn.linear_model import LogisticRegression\n",
    "from sklearn.ensemble import RandomForestClassifier\n",
    "from sklearn.svm import SVC\n",
    "\n",
    "from joblib import dump, load\n",
    "from sklearn.pipeline import Pipeline\n",
    "from sklearn.preprocessing import FunctionTransformer\n",
    "from sklearn.feature_extraction.text import TfidfVectorizer, CountVectorizer"
   ]
  },
  {
   "cell_type": "code",
   "execution_count": 11,
   "id": "ca2aace3",
   "metadata": {},
   "outputs": [
    {
     "name": "stdout",
     "output_type": "stream",
     "text": [
      "Dataset splitted into X_train, X_test, y_train and y_test\n"
     ]
    }
   ],
   "source": [
    "dataSplitter = DataSplitter(\"../data/raw/cat_6716.xlsx\")\n",
    "# Split the data into train and test dataset\n",
    "dataSplitter.split_data_train_test()\n",
    "# Write the splitted data (X_train, X_test, y_train, y_test) into files data/interim\n",
    "dataSplitter.write_data(\"../data/interim/\")\n",
    "print(\"Dataset splitted into X_train, X_test, y_train and y_test\")"
   ]
  },
  {
   "cell_type": "markdown",
   "id": "11a2899f",
   "metadata": {},
   "source": [
    "## Data Previous to Preprocessing\n",
    "\n"
   ]
  },
  {
   "cell_type": "markdown",
   "id": "bf56a352",
   "metadata": {},
   "source": [
    "### X_train"
   ]
  },
  {
   "cell_type": "code",
   "execution_count": 16,
   "id": "d05f71c2",
   "metadata": {},
   "outputs": [
    {
     "data": {
      "text/html": [
       "<div>\n",
       "<style scoped>\n",
       "    .dataframe tbody tr th:only-of-type {\n",
       "        vertical-align: middle;\n",
       "    }\n",
       "\n",
       "    .dataframe tbody tr th {\n",
       "        vertical-align: top;\n",
       "    }\n",
       "\n",
       "    .dataframe thead th {\n",
       "        text-align: right;\n",
       "    }\n",
       "</style>\n",
       "<table border=\"1\" class=\"dataframe\">\n",
       "  <thead>\n",
       "    <tr style=\"text-align: right;\">\n",
       "      <th></th>\n",
       "      <th>Textos_espanol</th>\n",
       "    </tr>\n",
       "  </thead>\n",
       "  <tbody>\n",
       "    <tr>\n",
       "      <th>0</th>\n",
       "      <td>Las Relaciones Internacionales (RI) y las disc...</td>\n",
       "    </tr>\n",
       "    <tr>\n",
       "      <th>1</th>\n",
       "      <td>Las empresas de agua potable cobran una tarifa...</td>\n",
       "    </tr>\n",
       "    <tr>\n",
       "      <th>2</th>\n",
       "      <td>Sin embargo, las exportaciones en 2008 fueron ...</td>\n",
       "    </tr>\n",
       "    <tr>\n",
       "      <th>3</th>\n",
       "      <td>Pocos campos de estudio del derecho son tan in...</td>\n",
       "    </tr>\n",
       "    <tr>\n",
       "      <th>4</th>\n",
       "      <td>Los análisis de evaluación de amenazas existen...</td>\n",
       "    </tr>\n",
       "  </tbody>\n",
       "</table>\n",
       "</div>"
      ],
      "text/plain": [
       "                                      Textos_espanol\n",
       "0  Las Relaciones Internacionales (RI) y las disc...\n",
       "1  Las empresas de agua potable cobran una tarifa...\n",
       "2  Sin embargo, las exportaciones en 2008 fueron ...\n",
       "3  Pocos campos de estudio del derecho son tan in...\n",
       "4  Los análisis de evaluación de amenazas existen..."
      ]
     },
     "execution_count": 16,
     "metadata": {},
     "output_type": "execute_result"
    }
   ],
   "source": [
    "X_train = pd.read_csv(\"../data/interim/X_train_raw.csv\")\n",
    "X_train.head()"
   ]
  },
  {
   "cell_type": "markdown",
   "id": "9cf5cba0",
   "metadata": {},
   "source": [
    "### X_test"
   ]
  },
  {
   "cell_type": "code",
   "execution_count": 17,
   "id": "74d9c97c",
   "metadata": {},
   "outputs": [
    {
     "data": {
      "text/html": [
       "<div>\n",
       "<style scoped>\n",
       "    .dataframe tbody tr th:only-of-type {\n",
       "        vertical-align: middle;\n",
       "    }\n",
       "\n",
       "    .dataframe tbody tr th {\n",
       "        vertical-align: top;\n",
       "    }\n",
       "\n",
       "    .dataframe thead th {\n",
       "        text-align: right;\n",
       "    }\n",
       "</style>\n",
       "<table border=\"1\" class=\"dataframe\">\n",
       "  <thead>\n",
       "    <tr style=\"text-align: right;\">\n",
       "      <th></th>\n",
       "      <th>Textos_espanol</th>\n",
       "    </tr>\n",
       "  </thead>\n",
       "  <tbody>\n",
       "    <tr>\n",
       "      <th>0</th>\n",
       "      <td>¿Por qué Estados Unidos, con su larga tradició...</td>\n",
       "    </tr>\n",
       "    <tr>\n",
       "      <th>1</th>\n",
       "      <td>Las amenazas a la seguridad ambiental (\"eco-am...</td>\n",
       "    </tr>\n",
       "    <tr>\n",
       "      <th>2</th>\n",
       "      <td>La financiación de apoyo se puede encontrar en...</td>\n",
       "    </tr>\n",
       "    <tr>\n",
       "      <th>3</th>\n",
       "      <td>Será necesario gestionar una consideración esp...</td>\n",
       "    </tr>\n",
       "    <tr>\n",
       "      <th>4</th>\n",
       "      <td>El concepto de justicia abarca un amplio espec...</td>\n",
       "    </tr>\n",
       "  </tbody>\n",
       "</table>\n",
       "</div>"
      ],
      "text/plain": [
       "                                      Textos_espanol\n",
       "0  ¿Por qué Estados Unidos, con su larga tradició...\n",
       "1  Las amenazas a la seguridad ambiental (\"eco-am...\n",
       "2  La financiación de apoyo se puede encontrar en...\n",
       "3  Será necesario gestionar una consideración esp...\n",
       "4  El concepto de justicia abarca un amplio espec..."
      ]
     },
     "execution_count": 17,
     "metadata": {},
     "output_type": "execute_result"
    }
   ],
   "source": [
    "X_test = pd.read_csv(\"../data/interim/X_test_raw.csv\")\n",
    "X_test.head()"
   ]
  },
  {
   "cell_type": "markdown",
   "id": "60538a70",
   "metadata": {},
   "source": [
    "## y_train"
   ]
  },
  {
   "cell_type": "code",
   "execution_count": 28,
   "id": "5631c534",
   "metadata": {},
   "outputs": [
    {
     "data": {
      "text/html": [
       "<div>\n",
       "<style scoped>\n",
       "    .dataframe tbody tr th:only-of-type {\n",
       "        vertical-align: middle;\n",
       "    }\n",
       "\n",
       "    .dataframe tbody tr th {\n",
       "        vertical-align: top;\n",
       "    }\n",
       "\n",
       "    .dataframe thead th {\n",
       "        text-align: right;\n",
       "    }\n",
       "</style>\n",
       "<table border=\"1\" class=\"dataframe\">\n",
       "  <thead>\n",
       "    <tr style=\"text-align: right;\">\n",
       "      <th></th>\n",
       "      <th>sdg</th>\n",
       "    </tr>\n",
       "  </thead>\n",
       "  <tbody>\n",
       "    <tr>\n",
       "      <th>0</th>\n",
       "      <td>16</td>\n",
       "    </tr>\n",
       "    <tr>\n",
       "      <th>1</th>\n",
       "      <td>6</td>\n",
       "    </tr>\n",
       "    <tr>\n",
       "      <th>2</th>\n",
       "      <td>6</td>\n",
       "    </tr>\n",
       "    <tr>\n",
       "      <th>3</th>\n",
       "      <td>16</td>\n",
       "    </tr>\n",
       "    <tr>\n",
       "      <th>4</th>\n",
       "      <td>16</td>\n",
       "    </tr>\n",
       "  </tbody>\n",
       "</table>\n",
       "</div>"
      ],
      "text/plain": [
       "   sdg\n",
       "0   16\n",
       "1    6\n",
       "2    6\n",
       "3   16\n",
       "4   16"
      ]
     },
     "execution_count": 28,
     "metadata": {},
     "output_type": "execute_result"
    }
   ],
   "source": [
    "y_train = pd.read_csv(\"../data/interim/y_train_raw.csv\")\n",
    "y_train.head()"
   ]
  },
  {
   "cell_type": "markdown",
   "id": "4070dd45",
   "metadata": {},
   "source": [
    "## y_test"
   ]
  },
  {
   "cell_type": "code",
   "execution_count": 29,
   "id": "9624a0e4",
   "metadata": {},
   "outputs": [
    {
     "data": {
      "text/html": [
       "<div>\n",
       "<style scoped>\n",
       "    .dataframe tbody tr th:only-of-type {\n",
       "        vertical-align: middle;\n",
       "    }\n",
       "\n",
       "    .dataframe tbody tr th {\n",
       "        vertical-align: top;\n",
       "    }\n",
       "\n",
       "    .dataframe thead th {\n",
       "        text-align: right;\n",
       "    }\n",
       "</style>\n",
       "<table border=\"1\" class=\"dataframe\">\n",
       "  <thead>\n",
       "    <tr style=\"text-align: right;\">\n",
       "      <th></th>\n",
       "      <th>sdg</th>\n",
       "    </tr>\n",
       "  </thead>\n",
       "  <tbody>\n",
       "    <tr>\n",
       "      <th>0</th>\n",
       "      <td>16</td>\n",
       "    </tr>\n",
       "    <tr>\n",
       "      <th>1</th>\n",
       "      <td>16</td>\n",
       "    </tr>\n",
       "    <tr>\n",
       "      <th>2</th>\n",
       "      <td>7</td>\n",
       "    </tr>\n",
       "    <tr>\n",
       "      <th>3</th>\n",
       "      <td>6</td>\n",
       "    </tr>\n",
       "    <tr>\n",
       "      <th>4</th>\n",
       "      <td>16</td>\n",
       "    </tr>\n",
       "  </tbody>\n",
       "</table>\n",
       "</div>"
      ],
      "text/plain": [
       "   sdg\n",
       "0   16\n",
       "1   16\n",
       "2    7\n",
       "3    6\n",
       "4   16"
      ]
     },
     "execution_count": 29,
     "metadata": {},
     "output_type": "execute_result"
    }
   ],
   "source": [
    "y_test = pd.read_csv(\"../data/interim/y_test_raw.csv\")\n",
    "y_test.head()"
   ]
  },
  {
   "cell_type": "markdown",
   "id": "7a8f4173",
   "metadata": {},
   "source": [
    "# Data Preprocessing\n",
    "\n",
    "**1. Reemplazar carácteres con codificación diferente por su representación en ANSI**\n",
    "\n",
    "**2. Eliminar URLs presentes en los textos a través de REGEX**\n",
    "\n",
    "**3. Eliminar carácteres diferentes a letras**\n",
    "\n",
    "**4. Convertir todos los carácteres a su representación en minúscula**\n",
    "\n",
    "**5. Lematizar cada token**\n",
    "\n",
    "**6. Eliminar stop_words**\n",
    "\n",
    "**7. Eliminar tildes**"
   ]
  },
  {
   "cell_type": "markdown",
   "id": "eeb3f79e",
   "metadata": {},
   "source": [
    "## Preprocessing X_train"
   ]
  },
  {
   "cell_type": "code",
   "execution_count": 24,
   "id": "201e2195",
   "metadata": {},
   "outputs": [
    {
     "name": "stdout",
     "output_type": "stream",
     "text": [
      "Reading X_train_raw.csv\n",
      "Preprocessing X_train\n",
      "Saving X_train processed\n",
      "Reading X_train processed\n"
     ]
    },
    {
     "data": {
      "text/html": [
       "<div>\n",
       "<style scoped>\n",
       "    .dataframe tbody tr th:only-of-type {\n",
       "        vertical-align: middle;\n",
       "    }\n",
       "\n",
       "    .dataframe tbody tr th {\n",
       "        vertical-align: top;\n",
       "    }\n",
       "\n",
       "    .dataframe thead th {\n",
       "        text-align: right;\n",
       "    }\n",
       "</style>\n",
       "<table border=\"1\" class=\"dataframe\">\n",
       "  <thead>\n",
       "    <tr style=\"text-align: right;\">\n",
       "      <th></th>\n",
       "      <th>text</th>\n",
       "    </tr>\n",
       "  </thead>\n",
       "  <tbody>\n",
       "    <tr>\n",
       "      <th>0</th>\n",
       "      <td>relacion internacional disciplina ciencia soci...</td>\n",
       "    </tr>\n",
       "    <tr>\n",
       "      <th>1</th>\n",
       "      <td>empresa agua potable cobrar tarifa usuario ser...</td>\n",
       "    </tr>\n",
       "    <tr>\n",
       "      <th>2</th>\n",
       "      <td>exportacion significativamente menor debido in...</td>\n",
       "    </tr>\n",
       "    <tr>\n",
       "      <th>3</th>\n",
       "      <td>campo estudio derecho introspectivo derecho co...</td>\n",
       "    </tr>\n",
       "    <tr>\n",
       "      <th>4</th>\n",
       "      <td>analisis evaluacion amenaza existente crimen t...</td>\n",
       "    </tr>\n",
       "  </tbody>\n",
       "</table>\n",
       "</div>"
      ],
      "text/plain": [
       "                                                text\n",
       "0  relacion internacional disciplina ciencia soci...\n",
       "1  empresa agua potable cobrar tarifa usuario ser...\n",
       "2  exportacion significativamente menor debido in...\n",
       "3  campo estudio derecho introspectivo derecho co...\n",
       "4  analisis evaluacion amenaza existente crimen t..."
      ]
     },
     "execution_count": 24,
     "metadata": {},
     "output_type": "execute_result"
    }
   ],
   "source": [
    "print(\"Reading X_train_raw.csv\")\n",
    "preprocessor = DataProcessor(\"../data/interim/X_train_raw.csv\")\n",
    "print(\"Preprocessing X_train\")\n",
    "preprocessor.process_data()\n",
    "print(\"Saving X_train processed\")\n",
    "preprocessor.write_data(\"../data/processed/X_train_processed.csv\")\n",
    "print(\"Reading X_train processed\")\n",
    "X_train_processed = pd.read_csv(\"../data/processed/X_train_processed.csv\")\n",
    "X_train_processed.head()"
   ]
  },
  {
   "cell_type": "markdown",
   "id": "8bd8250a",
   "metadata": {},
   "source": [
    "## Preprocessing X_test"
   ]
  },
  {
   "cell_type": "code",
   "execution_count": 25,
   "id": "08951df3",
   "metadata": {},
   "outputs": [
    {
     "name": "stdout",
     "output_type": "stream",
     "text": [
      "Reading X_test_raw.csv\n",
      "Preprocessing X_test\n",
      "Saving X_test processed\n",
      "Reading X_test processed\n"
     ]
    },
    {
     "data": {
      "text/html": [
       "<div>\n",
       "<style scoped>\n",
       "    .dataframe tbody tr th:only-of-type {\n",
       "        vertical-align: middle;\n",
       "    }\n",
       "\n",
       "    .dataframe tbody tr th {\n",
       "        vertical-align: top;\n",
       "    }\n",
       "\n",
       "    .dataframe thead th {\n",
       "        text-align: right;\n",
       "    }\n",
       "</style>\n",
       "<table border=\"1\" class=\"dataframe\">\n",
       "  <thead>\n",
       "    <tr style=\"text-align: right;\">\n",
       "      <th></th>\n",
       "      <th>text</th>\n",
       "    </tr>\n",
       "  </thead>\n",
       "  <tbody>\n",
       "    <tr>\n",
       "      <th>0</th>\n",
       "      <td>unido largo tradicion liberal llegar adoptar p...</td>\n",
       "    </tr>\n",
       "    <tr>\n",
       "      <th>1</th>\n",
       "      <td>amenaza seguridad ambiental eco amenaza solo e...</td>\n",
       "    </tr>\n",
       "    <tr>\n",
       "      <th>2</th>\n",
       "      <td>financiacion apoyo poder encontrar combinacion...</td>\n",
       "    </tr>\n",
       "    <tr>\n",
       "      <th>3</th>\n",
       "      <td>necesario gestionar consideracion especial nat...</td>\n",
       "    </tr>\n",
       "    <tr>\n",
       "      <th>4</th>\n",
       "      <td>concepto justicia abarcar amplio espectro preo...</td>\n",
       "    </tr>\n",
       "  </tbody>\n",
       "</table>\n",
       "</div>"
      ],
      "text/plain": [
       "                                                text\n",
       "0  unido largo tradicion liberal llegar adoptar p...\n",
       "1  amenaza seguridad ambiental eco amenaza solo e...\n",
       "2  financiacion apoyo poder encontrar combinacion...\n",
       "3  necesario gestionar consideracion especial nat...\n",
       "4  concepto justicia abarcar amplio espectro preo..."
      ]
     },
     "execution_count": 25,
     "metadata": {},
     "output_type": "execute_result"
    }
   ],
   "source": [
    "print(\"Reading X_test_raw.csv\")\n",
    "preprocessor = DataProcessor(\"../data/interim/X_test_raw.csv\")\n",
    "print(\"Preprocessing X_test\")\n",
    "preprocessor.process_data()\n",
    "print(\"Saving X_test processed\")\n",
    "preprocessor.write_data(\"../data/processed/X_test_processed.csv\")\n",
    "print(\"Reading X_test processed\")\n",
    "X_test_processed = pd.read_csv(\"../data/processed/X_test_processed.csv\")\n",
    "X_test_processed.head()"
   ]
  },
  {
   "cell_type": "markdown",
   "id": "ffc55cf5",
   "metadata": {},
   "source": [
    "# Data Model Representation"
   ]
  },
  {
   "cell_type": "markdown",
   "id": "50c509e7",
   "metadata": {},
   "source": [
    "## Bag Of Words (BOW)"
   ]
  },
  {
   "cell_type": "code",
   "execution_count": 50,
   "id": "30dd8159",
   "metadata": {},
   "outputs": [],
   "source": [
    "bow = BOW()\n",
    "bow.fit_transform(X_train_processed.text, X_test_processed.text)"
   ]
  },
  {
   "cell_type": "markdown",
   "id": "1afc2273",
   "metadata": {},
   "source": [
    "### X_train BOW"
   ]
  },
  {
   "cell_type": "code",
   "execution_count": 51,
   "id": "7e6b37ef",
   "metadata": {},
   "outputs": [
    {
     "data": {
      "text/plain": [
       "array([[0, 0, 0, ..., 0, 0, 0],\n",
       "       [0, 0, 0, ..., 0, 0, 0],\n",
       "       [0, 0, 0, ..., 0, 0, 0],\n",
       "       ...,\n",
       "       [0, 0, 0, ..., 0, 0, 0],\n",
       "       [0, 0, 0, ..., 0, 0, 0],\n",
       "       [0, 0, 0, ..., 0, 0, 0]], dtype=int64)"
      ]
     },
     "execution_count": 51,
     "metadata": {},
     "output_type": "execute_result"
    }
   ],
   "source": [
    "bow.X_bow_train.toarray()"
   ]
  },
  {
   "cell_type": "markdown",
   "id": "1be12e41",
   "metadata": {},
   "source": [
    "### X_test BOW"
   ]
  },
  {
   "cell_type": "code",
   "execution_count": 52,
   "id": "6d31d934",
   "metadata": {},
   "outputs": [
    {
     "data": {
      "text/plain": [
       "array([[0, 0, 0, ..., 0, 0, 0],\n",
       "       [0, 0, 0, ..., 0, 0, 0],\n",
       "       [0, 0, 0, ..., 0, 0, 0],\n",
       "       ...,\n",
       "       [0, 0, 0, ..., 0, 0, 0],\n",
       "       [0, 0, 0, ..., 0, 0, 0],\n",
       "       [0, 0, 0, ..., 0, 0, 0]], dtype=int64)"
      ]
     },
     "execution_count": 52,
     "metadata": {},
     "output_type": "execute_result"
    }
   ],
   "source": [
    "bow.X_bow_test.toarray()"
   ]
  },
  {
   "cell_type": "markdown",
   "id": "e38323c7",
   "metadata": {},
   "source": [
    "## Term frequency – Inverse document frequency (TF-IDF)"
   ]
  },
  {
   "cell_type": "code",
   "execution_count": 55,
   "id": "399e38db",
   "metadata": {},
   "outputs": [],
   "source": [
    "tfidf = TFIDF()\n",
    "tfidf.fit_transform(X_train_processed.text, X_test_processed.text)"
   ]
  },
  {
   "cell_type": "markdown",
   "id": "a0969845",
   "metadata": {},
   "source": [
    "### X_train TF-IDF"
   ]
  },
  {
   "cell_type": "code",
   "execution_count": 56,
   "id": "794ec6ad",
   "metadata": {},
   "outputs": [
    {
     "data": {
      "text/plain": [
       "array([[0., 0., 0., ..., 0., 0., 0.],\n",
       "       [0., 0., 0., ..., 0., 0., 0.],\n",
       "       [0., 0., 0., ..., 0., 0., 0.],\n",
       "       ...,\n",
       "       [0., 0., 0., ..., 0., 0., 0.],\n",
       "       [0., 0., 0., ..., 0., 0., 0.],\n",
       "       [0., 0., 0., ..., 0., 0., 0.]])"
      ]
     },
     "execution_count": 56,
     "metadata": {},
     "output_type": "execute_result"
    }
   ],
   "source": [
    "tfidf.X_tfidf_train.toarray()"
   ]
  },
  {
   "cell_type": "markdown",
   "id": "84b8ad7e",
   "metadata": {},
   "source": [
    "### X_test TF-IDF"
   ]
  },
  {
   "cell_type": "code",
   "execution_count": 58,
   "id": "2e6e4370",
   "metadata": {},
   "outputs": [
    {
     "data": {
      "text/plain": [
       "array([[0., 0., 0., ..., 0., 0., 0.],\n",
       "       [0., 0., 0., ..., 0., 0., 0.],\n",
       "       [0., 0., 0., ..., 0., 0., 0.],\n",
       "       ...,\n",
       "       [0., 0., 0., ..., 0., 0., 0.],\n",
       "       [0., 0., 0., ..., 0., 0., 0.],\n",
       "       [0., 0., 0., ..., 0., 0., 0.]])"
      ]
     },
     "execution_count": 58,
     "metadata": {},
     "output_type": "execute_result"
    }
   ],
   "source": [
    "tfidf.X_tfidf_test.toarray()"
   ]
  },
  {
   "cell_type": "markdown",
   "id": "dd44c0c5",
   "metadata": {},
   "source": [
    "# Data Modeling"
   ]
  },
  {
   "cell_type": "markdown",
   "id": "a0f93e0b",
   "metadata": {},
   "source": [
    "## 1. Logistic Regression"
   ]
  },
  {
   "cell_type": "markdown",
   "id": "d3f87197",
   "metadata": {},
   "source": [
    "### Logistic Regression - BOW"
   ]
  },
  {
   "cell_type": "code",
   "execution_count": 69,
   "id": "173946f9",
   "metadata": {},
   "outputs": [
    {
     "name": "stdout",
     "output_type": "stream",
     "text": [
      "Logistic Regression BOW: \n",
      "Resultados de Validación Cruzada (K=5):\n",
      "F1 Promedio: 0.9824996096635378\n",
      "F1 por Pliegue: [0.97914634 0.98333319 0.97711554 0.98331974 0.98958323]\n"
     ]
    }
   ],
   "source": [
    "print(\"Logistic Regression BOW: \")\n",
    "LogisticRegression_BOW = Model(LogisticRegression(random_state=42), bow.X_bow_train, y_train.sdg)\n",
    "LogisticRegression_BOW.model_cross_validate()"
   ]
  },
  {
   "cell_type": "markdown",
   "id": "ad49dabd",
   "metadata": {},
   "source": [
    "### Logistic Regression - TFIDF"
   ]
  },
  {
   "cell_type": "code",
   "execution_count": 70,
   "id": "1f3ae885",
   "metadata": {},
   "outputs": [
    {
     "name": "stdout",
     "output_type": "stream",
     "text": [
      "Logistic Regression TFIDF: \n",
      "Resultados de Validación Cruzada (K=5):\n",
      "F1 Promedio: 0.9853943474051332\n",
      "F1 por Pliegue: [0.97913829 0.98538973 0.98333168 0.9853621  0.99374994]\n"
     ]
    }
   ],
   "source": [
    "print(\"Logistic Regression TFIDF: \")\n",
    "LogisticRegression_TFIDF = Model(LogisticRegression(random_state=42), tfidf.X_tfidf_train, y_train.sdg)\n",
    "LogisticRegression_TFIDF.model_cross_validate()"
   ]
  },
  {
   "cell_type": "markdown",
   "id": "29c7f6b5",
   "metadata": {},
   "source": [
    "## 2. Random Forest Tree"
   ]
  },
  {
   "cell_type": "markdown",
   "id": "3ca9ebcc",
   "metadata": {},
   "source": [
    "### Random Forest Tree - BOW"
   ]
  },
  {
   "cell_type": "code",
   "execution_count": 71,
   "id": "c899f215",
   "metadata": {},
   "outputs": [
    {
     "name": "stdout",
     "output_type": "stream",
     "text": [
      "Random Forest Classifier BOW: \n",
      "Resultados de Validación Cruzada (K=5):\n",
      "F1 Promedio: 0.9808212622500232\n",
      "F1 por Pliegue: [0.97495544 0.98748649 0.96669847 0.98539566 0.98957025]\n"
     ]
    }
   ],
   "source": [
    "print(\"Random Forest Classifier BOW: \")\n",
    "RandomForest_BOW = Model(RandomForestClassifier(random_state=42), bow.X_bow_train, y_train.sdg)\n",
    "RandomForest_BOW.model_cross_validate()"
   ]
  },
  {
   "cell_type": "markdown",
   "id": "fed105c1",
   "metadata": {},
   "source": [
    "### Random Forest Tree - TFIDF"
   ]
  },
  {
   "cell_type": "code",
   "execution_count": 72,
   "id": "1f850a0c",
   "metadata": {},
   "outputs": [
    {
     "name": "stdout",
     "output_type": "stream",
     "text": [
      "Random Forest Classifier TFIDF: \n",
      "Resultados de Validación Cruzada (K=5):\n",
      "F1 Promedio: 0.9799794487576626\n",
      "F1 por Pliegue: [0.97708067 0.98329998 0.974966   0.97706368 0.98748692]\n"
     ]
    }
   ],
   "source": [
    "print(\"Random Forest Classifier TFIDF: \")\n",
    "RandomForest_TFIDF = Model(RandomForestClassifier(random_state=42), tfidf.X_tfidf_train, y_train.sdg)\n",
    "RandomForest_TFIDF.model_cross_validate()"
   ]
  },
  {
   "cell_type": "markdown",
   "id": "88190214",
   "metadata": {},
   "source": [
    "## 3. C-Support Vector Classification"
   ]
  },
  {
   "cell_type": "markdown",
   "id": "5b3cf76c",
   "metadata": {},
   "source": [
    "### C-Support Vector Classification - BOW"
   ]
  },
  {
   "cell_type": "code",
   "execution_count": 79,
   "id": "9e5202bc",
   "metadata": {},
   "outputs": [
    {
     "name": "stdout",
     "output_type": "stream",
     "text": [
      "C-Support Vector Classification BOW: \n",
      "Resultados de Validación Cruzada (K=5):\n",
      "F1 Promedio: 0.9745301152780493\n",
      "F1 por Pliegue: [0.97913829 0.97071207 0.96248608 0.97911787 0.98119626]\n"
     ]
    }
   ],
   "source": [
    "print(\"C-Support Vector Classification BOW: \")\n",
    "CSupportVector_BOW = Model(SVC(random_state=42), bow.X_bow_train, y_train.sdg)\n",
    "CSupportVector_BOW.model_cross_validate()"
   ]
  },
  {
   "cell_type": "markdown",
   "id": "61eff753",
   "metadata": {},
   "source": [
    "### C-Support Vector Classification - TFIDF"
   ]
  },
  {
   "cell_type": "code",
   "execution_count": 80,
   "id": "24a1d8b8",
   "metadata": {},
   "outputs": [
    {
     "name": "stdout",
     "output_type": "stream",
     "text": [
      "C-Support Vector Classification TFIDF: \n",
      "Resultados de Validación Cruzada (K=5):\n",
      "F1 Promedio: 0.9858073790395162\n",
      "F1 por Pliegue: [0.98120972 0.98538973 0.98333168 0.98535583 0.99374994]\n"
     ]
    }
   ],
   "source": [
    "print(\"C-Support Vector Classification TFIDF: \")\n",
    "CSupportVector_TFIDF = Model(SVC(random_state=42), tfidf.X_tfidf_train, y_train.sdg)\n",
    "CSupportVector_TFIDF.model_cross_validate()"
   ]
  },
  {
   "cell_type": "markdown",
   "id": "e5bb1fcf",
   "metadata": {},
   "source": [
    "## 4. Multinomial Naive Bayes"
   ]
  },
  {
   "cell_type": "markdown",
   "id": "99f61638",
   "metadata": {},
   "source": [
    "### Multinomial Naive Bayes - BOW"
   ]
  },
  {
   "cell_type": "code",
   "execution_count": 77,
   "id": "ae3dad97",
   "metadata": {},
   "outputs": [
    {
     "name": "stdout",
     "output_type": "stream",
     "text": [
      "Resultados de Validación Cruzada (K=5):\n",
      "F1 Promedio: 0.9845753442156763\n",
      "F1 por Pliegue: [0.97495544 0.98541538 0.98542306 0.98541618 0.99166667]\n"
     ]
    }
   ],
   "source": [
    "MultinomialNaiveBayes_BOW = Model(MultinomialNB(), bow.X_bow_train, y_train.sdg)\n",
    "MultinomialNaiveBayes_BOW.model_cross_validate()"
   ]
  },
  {
   "cell_type": "markdown",
   "id": "171a62f7",
   "metadata": {},
   "source": [
    "### Multinomial Naive Bayes - TFIDF"
   ]
  },
  {
   "cell_type": "code",
   "execution_count": 76,
   "id": "4927b510",
   "metadata": {},
   "outputs": [
    {
     "name": "stdout",
     "output_type": "stream",
     "text": [
      "Resultados de Validación Cruzada (K=5):\n",
      "F1 Promedio: 0.9808187252922119\n",
      "F1 por Pliegue: [0.97079218 0.98749951 0.97497037 0.98541618 0.98541538]\n"
     ]
    }
   ],
   "source": [
    "MultinomialNaiveBayes_TFIDF = Model(MultinomialNB(), tfidf.X_tfidf_train, y_train.sdg)\n",
    "MultinomialNaiveBayes_TFIDF.model_cross_validate()"
   ]
  },
  {
   "cell_type": "markdown",
   "id": "065b370d",
   "metadata": {},
   "source": [
    "# Search for the best hyperparameters per model"
   ]
  },
  {
   "cell_type": "markdown",
   "id": "2e2e6598",
   "metadata": {},
   "source": [
    "## 1. Logistic Regression"
   ]
  },
  {
   "cell_type": "markdown",
   "id": "ff795d38",
   "metadata": {},
   "source": [
    "### Logistic Regression - BOW"
   ]
  },
  {
   "cell_type": "code",
   "execution_count": 82,
   "id": "d83b34c2",
   "metadata": {},
   "outputs": [
    {
     "name": "stdout",
     "output_type": "stream",
     "text": [
      "\n",
      "Logistic Regression BOW: \n",
      "Mejores hiperparámetros: {'C': 100, 'class_weight': None, 'fit_intercept': True, 'l1_ratio': None, 'multi_class': 'auto', 'penalty': 'l2', 'solver': 'liblinear', 'warm_start': True}\n",
      "Mejor F1: 0.9845791057351894\n"
     ]
    }
   ],
   "source": [
    "print(\"Logistic Regression BOW: \")\n",
    "LogisticRegression_BOW = Model(LogisticRegression(max_iter=5000, random_state=42), bow.X_bow_train, y_train)\n",
    "LogisticRegression_BOW.model_grid_search(param_grid = {\n",
    "    'penalty': ['l1', 'l2', 'elasticnet'],\n",
    "    'C': [0.001, 0.01, 0.1, 1, 10, 100],\n",
    "    'solver': ['newton-cg', 'lbfgs', 'liblinear', 'sag', 'saga'],\n",
    "    'class_weight': [None, 'balanced'],\n",
    "    'fit_intercept': [True, False],\n",
    "    'multi_class': ['auto', 'ovr', 'multinomial'],\n",
    "    'warm_start': [True, False],\n",
    "    'l1_ratio': [None, 0, 0.25,0.5,0.75,1]\n",
    "})"
   ]
  },
  {
   "cell_type": "markdown",
   "id": "fdf1565a",
   "metadata": {},
   "source": [
    "### Logistic Regression - TFIDF"
   ]
  },
  {
   "cell_type": "code",
   "execution_count": 83,
   "id": "4869f478",
   "metadata": {},
   "outputs": [
    {
     "name": "stdout",
     "output_type": "stream",
     "text": [
      "Logistic Regression TFIDF: \n",
      "Mejores hiperparámetros: {'C': 100, 'fit_intercept': True, 'l1_ratio': None, 'multi_class': 'auto', 'penalty': 'l2', 'solver': 'newton-cg', 'warm_start': True}\n",
      "Mejor F1: 0.9874850969526217\n"
     ]
    }
   ],
   "source": [
    "print(\"Logistic Regression TFIDF: \")\n",
    "LogisticRegression_TFIDF = Model(LogisticRegression(max_iter=5000, random_state=42), tfidf.X_tfidf_train, y_train.sdg)\n",
    "LogisticRegression_TFIDF.model_grid_search(param_grid = {\n",
    "    'penalty': ['l1', 'l2', 'elasticnet'],\n",
    "    'C': [0.001, 0.01, 0.1, 1, 10, 100],\n",
    "    'solver': ['newton-cg', 'lbfgs', 'liblinear', 'sag', 'saga'],\n",
    "    'fit_intercept': [True, False],\n",
    "    'multi_class': ['auto', 'ovr', 'multinomial'],\n",
    "    'warm_start': [True, False],\n",
    "    'l1_ratio': [None, 0, 0.25,0.5,0.75,1]\n",
    "})"
   ]
  },
  {
   "cell_type": "markdown",
   "id": "bdb82f31",
   "metadata": {},
   "source": [
    "## 2. Random Forest Tree"
   ]
  },
  {
   "cell_type": "markdown",
   "id": "17422774",
   "metadata": {},
   "source": [
    "### Random Forest Tree - BOW"
   ]
  },
  {
   "cell_type": "code",
   "execution_count": 84,
   "id": "14225f21",
   "metadata": {
    "scrolled": true
   },
   "outputs": [
    {
     "name": "stdout",
     "output_type": "stream",
     "text": [
      "Random Forest BOW: \n",
      "Mejores hiperparámetros: {'bootstrap': False, 'criterion': 'gini', 'max_depth': None, 'max_features': 'log2', 'min_samples_leaf': 1, 'min_samples_split': 5, 'n_estimators': 200}\n",
      "Mejor F1: 0.98708248048484\n"
     ]
    }
   ],
   "source": [
    "print(\"\\nRandom Forest BOW: \")\n",
    "RandomForest_BOW = Model(RandomForestClassifier(random_state=42), bow.X_bow_train, y_train.sdg)\n",
    "RandomForest_BOW.model_grid_search(param_grid = {\n",
    "    'n_estimators': [10, 50, 100, 200, 500],\n",
    "    'max_depth': [None, 10, 20, 30, 40, 50, 60],\n",
    "    'min_samples_split': [2, 5, 10],\n",
    "    'min_samples_leaf': [1, 2, 4],\n",
    "    'bootstrap': [True, False],\n",
    "    'max_features': ['sqrt', 'log2'],\n",
    "    'criterion': ['gini', 'entropy',  'log_loss'],\n",
    "})"
   ]
  },
  {
   "cell_type": "markdown",
   "id": "87115d12",
   "metadata": {},
   "source": [
    "### Random Forest Tree - TFIDF"
   ]
  },
  {
   "cell_type": "code",
   "execution_count": 85,
   "id": "69e795c5",
   "metadata": {},
   "outputs": [
    {
     "name": "stdout",
     "output_type": "stream",
     "text": [
      "Random Forest TFIDF: \n",
      "Mejores hiperparámetros: {'bootstrap': False, 'criterion': 'gini', 'max_depth': None, 'max_features': 'sqrt', 'min_samples_leaf': 1, 'min_samples_split': 2, 'n_estimators': 200}\n",
      "Mejor F1: 0.9841658959167088\n"
     ]
    }
   ],
   "source": [
    "print(\"Random Forest TFIDF: \")\n",
    "RandomForest_TFIDF = Model(RandomForestClassifier(random_state=42), tfidf.X_tfidf_train, y_train.sdg)\n",
    "RandomForest_TFIDF.model_grid_search(param_grid = {\n",
    "    'n_estimators': [10, 50, 100, 200, 500],\n",
    "    'max_depth': [None, 10, 20, 30, 40, 50, 60],\n",
    "    'min_samples_split': [2, 5, 10],\n",
    "    'min_samples_leaf': [1, 2, 4],\n",
    "    'bootstrap': [True, False],\n",
    "    'max_features': ['sqrt', 'log2'],\n",
    "    'criterion': ['gini', 'entropy',  'log_loss'],\n",
    "})"
   ]
  },
  {
   "cell_type": "markdown",
   "id": "ea5e1532",
   "metadata": {},
   "source": [
    "## 3. C-Support Vector Classification"
   ]
  },
  {
   "cell_type": "markdown",
   "id": "e11b6946",
   "metadata": {},
   "source": [
    "### C-Support Vector Classification - BOW"
   ]
  },
  {
   "cell_type": "code",
   "execution_count": 86,
   "id": "7185e304",
   "metadata": {},
   "outputs": [
    {
     "name": "stdout",
     "output_type": "stream",
     "text": [
      "CSVC BOW: \n",
      "Mejores hiperparámetros: {'C': 0.1, 'coef0': 2, 'gamma': 0.01, 'kernel': 'poly', 'shrinking': True, 'tol': 0.001}\n",
      "Mejor F1: 0.984174822921223\n"
     ]
    }
   ],
   "source": [
    "print(\"CSVC BOW: \")\n",
    "CSVC_BOW = Model(SVC(random_state=42), bow.X_bow_train, y_train.sdg)\n",
    "CSVC_BOW.model_grid_search({\n",
    "    'C': [0.001, 0.01, 0.1, 1, 10, 100],\n",
    "    'kernel': ['linear', 'poly', 'rbf', 'sigmoid'],\n",
    "    'gamma': ['scale', 'auto', 0.01, 0.1, 1, 10, 100],\n",
    "    'coef0': [0, 1, 2, 3, 4],\n",
    "    'shrinking': [True, False],\n",
    "    'tol': [1e-3, 1e-4, 1e-5],\n",
    "})"
   ]
  },
  {
   "cell_type": "markdown",
   "id": "6e330502",
   "metadata": {},
   "source": [
    "### C-Support Vector Classification - TFIDF"
   ]
  },
  {
   "cell_type": "code",
   "execution_count": 87,
   "id": "bce64ee1",
   "metadata": {},
   "outputs": [
    {
     "name": "stdout",
     "output_type": "stream",
     "text": [
      "CSVS TFIDF: \n",
      "Mejores hiperparámetros: {'C': 1, 'coef0': 2, 'gamma': 'scale', 'kernel': 'poly', 'shrinking': True, 'tol': 0.001}\n",
      "Mejor F1: 0.9874836616194711\n"
     ]
    }
   ],
   "source": [
    "print(\"CSVS TFIDF: \")\n",
    "CSVS_TFIDF = Model(SVC(random_state=42), tfidf.X_tfidf_train, y_train.sdg)\n",
    "CSVS_TFIDF.model_grid_search({\n",
    "    'C': [0.001, 0.01, 0.1, 1, 10, 100],\n",
    "    'kernel': ['linear', 'poly', 'rbf', 'sigmoid'],\n",
    "    'gamma': ['scale', 'auto', 0.01, 0.1, 1, 10, 100],\n",
    "    'coef0': [0, 1, 2, 3, 4],\n",
    "    'shrinking': [True, False],\n",
    "    'tol': [1e-3, 1e-4, 1e-5],\n",
    "})"
   ]
  },
  {
   "cell_type": "markdown",
   "id": "8aec27e2",
   "metadata": {},
   "source": [
    "## 4. Multinomial Naive Bayes"
   ]
  },
  {
   "cell_type": "markdown",
   "id": "0a8476a1",
   "metadata": {},
   "source": [
    "### Multinomial Naive Bayes - BOW"
   ]
  },
  {
   "cell_type": "code",
   "execution_count": 117,
   "id": "79d58441",
   "metadata": {},
   "outputs": [
    {
     "name": "stdout",
     "output_type": "stream",
     "text": [
      "Multinomial Naive Bayes BOW: \n",
      "Mejores hiperparámetros: {'alpha': 0.3777063694539368, 'class_prior': None, 'fit_prior': True, 'force_alpha': True}\n",
      "Mejor F1: 0.9854105779676413\n"
     ]
    }
   ],
   "source": [
    "print(\"Multinomial Naive Bayes BOW: \")\n",
    "MultinomialNBBOW = Model(MultinomialNB(), bow.X_bow_train, y_train.sdg)\n",
    "MultinomialNBBOW.model_grid_search({\n",
    "    'alpha': list(np.logspace(-4, 3, 500)),\n",
    "    'fit_prior': [True, False],\n",
    "    'class_prior': [None],\n",
    "    'force_alpha':[True, False]\n",
    "})"
   ]
  },
  {
   "cell_type": "markdown",
   "id": "6602d874",
   "metadata": {},
   "source": [
    "### Multinomial Naive Bayes - TFIDF"
   ]
  },
  {
   "cell_type": "code",
   "execution_count": 118,
   "id": "aba08140",
   "metadata": {},
   "outputs": [
    {
     "name": "stdout",
     "output_type": "stream",
     "text": [
      "Multinomial Naive Bayes TFIDF: \n",
      "Mejores hiperparámetros: {'alpha': 51.21755443364241, 'class_prior': None, 'fit_prior': True, 'force_alpha': True}\n",
      "Mejor F1: 0.9854208658976971\n"
     ]
    }
   ],
   "source": [
    "print(\"Multinomial Naive Bayes TFIDF: \")\n",
    "MultinomialNBTFIDF = Model(MultinomialNB(), tfidf.X_tfidf_train, y_train.sdg)\n",
    "MultinomialNBTFIDF.model_grid_search({\n",
    "    'alpha': list(np.logspace(-4, 3, 500)),\n",
    "    'fit_prior': [True, False],\n",
    "    'class_prior': [None],\n",
    "    'force_alpha':[True, False]\n",
    "})"
   ]
  },
  {
   "cell_type": "markdown",
   "id": "88b7aa03",
   "metadata": {},
   "source": [
    "# Model Test Validation with the best hyperparameters finded"
   ]
  },
  {
   "cell_type": "markdown",
   "id": "31a7996d",
   "metadata": {},
   "source": [
    "## 1.  Logistic Regression"
   ]
  },
  {
   "cell_type": "markdown",
   "id": "bc3076c4",
   "metadata": {},
   "source": [
    "### Logistic Regression - BOW"
   ]
  },
  {
   "cell_type": "code",
   "execution_count": 121,
   "id": "db1a9891",
   "metadata": {},
   "outputs": [
    {
     "name": "stdout",
     "output_type": "stream",
     "text": [
      "Logistic Regression BOW: \n"
     ]
    },
    {
     "data": {
      "image/png": "[encoded data removed]",
      "text/plain": [
       "<Figure size 640x480 with 2 Axes>"
      ]
     },
     "metadata": {},
     "output_type": "display_data"
    },
    {
     "name": "stdout",
     "output_type": "stream",
     "text": [
      "              precision    recall  f1-score   support\n",
      "\n",
      "           6     0.9706    0.9900    0.9802       200\n",
      "           7     0.9897    0.9600    0.9746       200\n",
      "          16     0.9901    1.0000    0.9950       200\n",
      "\n",
      "    accuracy                         0.9833       600\n",
      "   macro avg     0.9835    0.9833    0.9833       600\n",
      "weighted avg     0.9835    0.9833    0.9833       600\n",
      "\n"
     ]
    }
   ],
   "source": [
    "print(\"Logistic Regression BOW: \")\n",
    "LogisticRegression_BOW = Model(LogisticRegression(max_iter=1000, random_state=42, C=100, class_weight=None, fit_intercept=True, l1_ratio=None, multi_class=\"auto\", penalty=\"l2\", solver=\"liblinear\", warm_start=True), bow.X_bow_train, y_train.sdg)\n",
    "print(LogisticRegression_BOW.fit_predict(bow.X_bow_train, y_train.sdg, bow.X_bow_test, y_test, False, True))"
   ]
  },
  {
   "cell_type": "markdown",
   "id": "c0308473",
   "metadata": {},
   "source": [
    "### Logistic Regression - TFIDF"
   ]
  },
  {
   "cell_type": "code",
   "execution_count": 123,
   "id": "a3eb302e",
   "metadata": {},
   "outputs": [
    {
     "name": "stdout",
     "output_type": "stream",
     "text": [
      "Logistic Regression TFIDF: \n"
     ]
    },
    {
     "data": {
      "image/png": "[encoded data removed]",
      "text/plain": [
       "<Figure size 640x480 with 2 Axes>"
      ]
     },
     "metadata": {},
     "output_type": "display_data"
    },
    {
     "name": "stdout",
     "output_type": "stream",
     "text": [
      "              precision    recall  f1-score   support\n",
      "\n",
      "           6     0.9657    0.9850    0.9752       200\n",
      "           7     0.9845    0.9550    0.9695       200\n",
      "          16     0.9901    1.0000    0.9950       200\n",
      "\n",
      "    accuracy                         0.9800       600\n",
      "   macro avg     0.9801    0.9800    0.9799       600\n",
      "weighted avg     0.9801    0.9800    0.9799       600\n",
      "\n"
     ]
    }
   ],
   "source": [
    "print(\"Logistic Regression TFIDF: \")\n",
    "LogisticRegression_TFIDF = Model(LogisticRegression(max_iter=1000, random_state=42, C=100, fit_intercept=True, l1_ratio=None, multi_class=\"auto\", penalty=\"l2\", solver=\"newton-cg\", warm_start=True), tfidf.X_tfidf_train, y_train.sdg)\n",
    "print(LogisticRegression_TFIDF.fit_predict(tfidf.X_tfidf_train, y_train.sdg, tfidf.X_tfidf_test, y_test.sdg, False, True))"
   ]
  },
  {
   "cell_type": "markdown",
   "id": "39d629a4",
   "metadata": {},
   "source": [
    "## 2. Random Forest Tree"
   ]
  },
  {
   "cell_type": "markdown",
   "id": "6289a68d",
   "metadata": {},
   "source": [
    "### Random Forest Tree - BOW"
   ]
  },
  {
   "cell_type": "code",
   "execution_count": 125,
   "id": "8d961881",
   "metadata": {},
   "outputs": [
    {
     "name": "stdout",
     "output_type": "stream",
     "text": [
      "Random Forest Classifier BOW: \n"
     ]
    },
    {
     "data": {
      "image/png": "[encoded data removed]",
      "text/plain": [
       "<Figure size 640x480 with 2 Axes>"
      ]
     },
     "metadata": {},
     "output_type": "display_data"
    },
    {
     "name": "stdout",
     "output_type": "stream",
     "text": [
      "              precision    recall  f1-score   support\n",
      "\n",
      "           6     0.9561    0.9800    0.9679       200\n",
      "           7     0.9847    0.9650    0.9747       200\n",
      "          16     0.9950    0.9900    0.9925       200\n",
      "\n",
      "    accuracy                         0.9783       600\n",
      "   macro avg     0.9786    0.9783    0.9784       600\n",
      "weighted avg     0.9786    0.9783    0.9784       600\n",
      "\n"
     ]
    }
   ],
   "source": [
    "print(\"Random Forest Classifier BOW: \")\n",
    "RandomForest_BOW = Model(RandomForestClassifier(random_state=42, bootstrap=False, criterion=\"gini\", max_depth=None, max_features=\"log2\", min_samples_leaf=1, min_samples_split=5, n_estimators=200), bow.X_bow_train, y_train.sdg)\n",
    "print(RandomForest_BOW.fit_predict(bow.X_bow_train, y_train.sdg, bow.X_bow_test, y_test.sdg, False, True))"
   ]
  },
  {
   "cell_type": "markdown",
   "id": "9f2822c4",
   "metadata": {},
   "source": [
    "### Random Forest Tree - TFIDF"
   ]
  },
  {
   "cell_type": "code",
   "execution_count": 127,
   "id": "1dce50f2",
   "metadata": {},
   "outputs": [
    {
     "name": "stdout",
     "output_type": "stream",
     "text": [
      "Random Forest Classifier TFIDF: \n"
     ]
    },
    {
     "data": {
      "image/png": "[encoded data removed]",
      "text/plain": [
       "<Figure size 640x480 with 2 Axes>"
      ]
     },
     "metadata": {},
     "output_type": "display_data"
    },
    {
     "name": "stdout",
     "output_type": "stream",
     "text": [
      "              precision    recall  f1-score   support\n",
      "\n",
      "           6     0.9803    0.9950    0.9876       200\n",
      "           7     1.0000    0.9800    0.9899       200\n",
      "          16     0.9950    1.0000    0.9975       200\n",
      "\n",
      "    accuracy                         0.9917       600\n",
      "   macro avg     0.9918    0.9917    0.9917       600\n",
      "weighted avg     0.9918    0.9917    0.9917       600\n",
      "\n"
     ]
    }
   ],
   "source": [
    "print(\"Random Forest Classifier TFIDF: \")\n",
    "RandomForest_TFIDF = Model(RandomForestClassifier(random_state=42, bootstrap=False, criterion=\"gini\", max_depth=None, max_features=\"sqrt\", min_samples_leaf=1, min_samples_split=2, n_estimators=200), tfidf.X_tfidf_train, y_train.sdg)\n",
    "print(RandomForest_TFIDF.fit_predict(tfidf.X_tfidf_train, y_train.sdg, tfidf.X_tfidf_test, y_test.sdg, False, True))"
   ]
  },
  {
   "cell_type": "markdown",
   "id": "08ed839c",
   "metadata": {},
   "source": [
    "## 3. C-Support Vector Classification"
   ]
  },
  {
   "cell_type": "markdown",
   "id": "1d0f99dd",
   "metadata": {},
   "source": [
    "### C-Support Vector Classification - BOW"
   ]
  },
  {
   "cell_type": "code",
   "execution_count": 130,
   "id": "e2a85329",
   "metadata": {},
   "outputs": [
    {
     "name": "stdout",
     "output_type": "stream",
     "text": [
      "C-Support Vector Classification - TFIDF:\n"
     ]
    },
    {
     "data": {
      "image/png": "[encoded data removed]",
      "text/plain": [
       "<Figure size 640x480 with 2 Axes>"
      ]
     },
     "metadata": {},
     "output_type": "display_data"
    },
    {
     "name": "stdout",
     "output_type": "stream",
     "text": [
      "              precision    recall  f1-score   support\n",
      "\n",
      "           6     0.9801    0.9850    0.9825       200\n",
      "           7     0.9799    0.9750    0.9774       200\n",
      "          16     0.9950    0.9950    0.9950       200\n",
      "\n",
      "    accuracy                         0.9850       600\n",
      "   macro avg     0.9850    0.9850    0.9850       600\n",
      "weighted avg     0.9850    0.9850    0.9850       600\n",
      "\n"
     ]
    }
   ],
   "source": [
    "print(\"C-Support Vector Classification - TFIDF:\")\n",
    "SupportVectorMachine_BOW = Model(SVC(random_state=42, C=0.1, coef0=2, gamma=0.01, kernel=\"poly\", shrinking=True, tol=0.001), bow.X_bow_train, y_train.sdg)\n",
    "print(SupportVectorMachine_BOW.fit_predict(bow.X_bow_train, y_train.sdg, bow.X_bow_test, y_test.sdg, False, True))"
   ]
  },
  {
   "cell_type": "markdown",
   "id": "06b9e760",
   "metadata": {},
   "source": [
    "### C-Support Vector Classification - TFIDF"
   ]
  },
  {
   "cell_type": "code",
   "execution_count": 133,
   "id": "d30a32c1",
   "metadata": {},
   "outputs": [
    {
     "name": "stdout",
     "output_type": "stream",
     "text": [
      "C-Support Vector Classification - TFIDF: \n"
     ]
    },
    {
     "data": {
      "image/png": "[encoded data removed]",
      "text/plain": [
       "<Figure size 640x480 with 2 Axes>"
      ]
     },
     "metadata": {},
     "output_type": "display_data"
    },
    {
     "name": "stdout",
     "output_type": "stream",
     "text": [
      "              precision    recall  f1-score   support\n",
      "\n",
      "           6     0.9657    0.9850    0.9752       200\n",
      "           7     0.9847    0.9650    0.9747       200\n",
      "          16     1.0000    1.0000    1.0000       200\n",
      "\n",
      "    accuracy                         0.9833       600\n",
      "   macro avg     0.9835    0.9833    0.9833       600\n",
      "weighted avg     0.9835    0.9833    0.9833       600\n",
      "\n"
     ]
    }
   ],
   "source": [
    "print(\"C-Support Vector Classification - TFIDF: \")\n",
    "SupportVectorMachine_TFIDF = Model(SVC(random_state=42, C=1, coef0=2, gamma=\"scale\", kernel=\"poly\", shrinking=True, tol=0.001), tfidf.X_tfidf_train, y_train.sdg)\n",
    "print(SupportVectorMachine_TFIDF.fit_predict(tfidf.X_tfidf_train, y_train.sdg, tfidf.X_tfidf_test, y_test.sdg, False, True))"
   ]
  },
  {
   "cell_type": "markdown",
   "id": "6d5b05ec",
   "metadata": {},
   "source": [
    "## 4. Multinomial Naive Bayes"
   ]
  },
  {
   "cell_type": "markdown",
   "id": "460ec945",
   "metadata": {},
   "source": [
    "### Multinomial Naive Bayes - BOW"
   ]
  },
  {
   "cell_type": "code",
   "execution_count": 136,
   "id": "fe71f927",
   "metadata": {},
   "outputs": [
    {
     "name": "stdout",
     "output_type": "stream",
     "text": [
      "Multinomial Naive Bayes BOW: \n"
     ]
    },
    {
     "data": {
      "image/png": "[encoded data removed]",
      "text/plain": [
       "<Figure size 640x480 with 2 Axes>"
      ]
     },
     "metadata": {},
     "output_type": "display_data"
    },
    {
     "name": "stdout",
     "output_type": "stream",
     "text": [
      "              precision    recall  f1-score   support\n",
      "\n",
      "           6     0.9563    0.9850    0.9704       200\n",
      "           7     0.9846    0.9600    0.9722       200\n",
      "          16     1.0000    0.9950    0.9975       200\n",
      "\n",
      "    accuracy                         0.9800       600\n",
      "   macro avg     0.9803    0.9800    0.9800       600\n",
      "weighted avg     0.9803    0.9800    0.9800       600\n",
      "\n"
     ]
    }
   ],
   "source": [
    "print(\"Multinomial Naive Bayes BOW: \")\n",
    "MultinomialNaiveBayes_BOW = Model(MultinomialNB(alpha=0.3777063694539368, class_prior=None, fit_prior=True, force_alpha=True), bow.X_bow_train, y_train.sdg)\n",
    "print(MultinomialNaiveBayes_BOW.fit_predict(bow.X_bow_train, y_train.sdg, bow.X_bow_test, y_test.sdg, False, True))"
   ]
  },
  {
   "cell_type": "markdown",
   "id": "6065f548",
   "metadata": {},
   "source": [
    "### Multinomial Naive Bayes - TFIDF"
   ]
  },
  {
   "cell_type": "code",
   "execution_count": 144,
   "id": "a9bfcf9e",
   "metadata": {},
   "outputs": [
    {
     "name": "stdout",
     "output_type": "stream",
     "text": [
      "Multinomial Naive Bayes TFIDF: \n"
     ]
    },
    {
     "data": {
      "image/png": "[encoded data removed]",
      "text/plain": [
       "<Figure size 640x480 with 2 Axes>"
      ]
     },
     "metadata": {},
     "output_type": "display_data"
    },
    {
     "name": "stdout",
     "output_type": "stream",
     "text": [
      "              precision    recall  f1-score   support\n",
      "\n",
      "           6     0.9608    0.9800    0.9703       200\n",
      "           7     0.9698    0.9650    0.9674       200\n",
      "          16     1.0000    0.9850    0.9924       200\n",
      "\n",
      "    accuracy                         0.9767       600\n",
      "   macro avg     0.9769    0.9767    0.9767       600\n",
      "weighted avg     0.9769    0.9767    0.9767       600\n",
      "\n"
     ]
    }
   ],
   "source": [
    "print(\"Multinomial Naive Bayes TFIDF: \")\n",
    "MultinomialNaiveBayes_TFIDF = Model(MultinomialNB(alpha=51.21755443364241, class_prior=None, fit_prior=True, force_alpha=True), tfidf.X_tfidf_train, y_train.sdg)\n",
    "print(MultinomialNaiveBayes_TFIDF.fit_predict(tfidf.X_tfidf_train, y_train.sdg, tfidf.X_tfidf_test, y_test.sdg, False, True))"
   ]
  },
  {
   "cell_type": "markdown",
   "id": "4c77bd68",
   "metadata": {},
   "source": [
    "# Summary of Models Quantitative Results (Validation - Test)"
   ]
  },
  {
   "cell_type": "markdown",
   "id": "228a4fe2",
   "metadata": {},
   "source": [
    "| Algorithm | Representation | F1 Score (Validation Set K-Fold C=5) | F1 Score (Test Set) | Difference Validation-Test |\n",
    "|---------------|--------------------|------------------------------------------|-------------------------|-------------------------------|\n",
    "| Logistic Regression | BOW | 98,45% | 98,33% | -0,12% |\n",
    "| Logistic Regression | TF-IDF | 98,74% | 97,99% | -0,75% |\n",
    "| Random Forest Tree | BOW | 98,70% | 97,84% | -0,86% |\n",
    "| Random Forest Tree | TF-IDF | 98,41% | 99,17% | 0,76% |\n",
    "| C-Support Vector Classification | BOW | 98,41% | 98,50% | 0,09% |\n",
    "| C-Support Vector Classification | TF-IDF | 98,74% | 98,33% | -0,41% |\n",
    "| Multinomial Naive Bayes | BOW | 98,54% | 98,00% | -0,54% |\n",
    "| Multinomial Naive Bayes | TF-IDF | 98,54% | 97,67% | -0,87% |"
   ]
  },
  {
   "cell_type": "markdown",
   "id": "9f13dada",
   "metadata": {},
   "source": [
    "# Pipeline Generation"
   ]
  },
  {
   "cell_type": "markdown",
   "id": "ebbd2043",
   "metadata": {},
   "source": [
    "## Logistic Regression - TFIDF"
   ]
  },
  {
   "cell_type": "code",
   "execution_count": 155,
   "id": "22352808",
   "metadata": {},
   "outputs": [
    {
     "data": {
      "text/plain": [
       "['../models/TFIDFLogisticRegression/TFIDFLogisticRegression.pkl']"
      ]
     },
     "execution_count": 155,
     "metadata": {},
     "output_type": "execute_result"
    }
   ],
   "source": [
    "TFIDFLogisticRegressionPipeline = Pipeline([\n",
    "    ('preprocessor', FunctionTransformer(DataProcessor(\"\").process_data, validate=False)),\n",
    "    ('vectorizer', TfidfVectorizer()),\n",
    "    ('classifier', LogisticRegression(max_iter=1000, random_state=42, C=100, class_weight=None, fit_intercept=True, l1_ratio=None, multi_class=\"auto\", penalty=\"l2\", solver=\"liblinear\", warm_start=True))\n",
    "])\n",
    "\n",
    "dump(TFIDFLogisticRegressionPipeline, '../models/TFIDFLogisticRegression/TFIDFLogisticRegression.pkl')"
   ]
  },
  {
   "cell_type": "markdown",
   "id": "21438b63",
   "metadata": {},
   "source": [
    "## C-Support Vector Classification - TFIDF"
   ]
  },
  {
   "cell_type": "code",
   "execution_count": 156,
   "id": "dec98c2e",
   "metadata": {},
   "outputs": [
    {
     "data": {
      "text/plain": [
       "['../models/TFIDFCSupportVector/TFIDFCSupportVector.pkl']"
      ]
     },
     "execution_count": 156,
     "metadata": {},
     "output_type": "execute_result"
    }
   ],
   "source": [
    "TFIDFCSupportVectorPipeline = Pipeline([\n",
    "    ('preprocessor', FunctionTransformer(DataProcessor(\"\").process_data, validate=False)),\n",
    "    ('vectorizer', TfidfVectorizer()),\n",
    "    ('classifier', SVC(random_state=42, C=1, coef0=2, gamma=\"scale\", kernel=\"poly\", shrinking=True, tol=0.001))\n",
    "])\n",
    "\n",
    "dump(TFIDFCSupportVectorPipeline, '../models/TFIDFCSupportVector/TFIDFCSupportVector.pkl')"
   ]
  },
  {
   "cell_type": "markdown",
   "id": "e0ef0e86",
   "metadata": {},
   "source": [
    "## Random Forest Tree - TFIDF"
   ]
  },
  {
   "cell_type": "code",
   "execution_count": 166,
   "id": "2956ea88",
   "metadata": {},
   "outputs": [
    {
     "data": {
      "text/plain": [
       "['../models/TFIDFRandomForest/TFIDFRandomForest.pkl']"
      ]
     },
     "execution_count": 166,
     "metadata": {},
     "output_type": "execute_result"
    }
   ],
   "source": [
    "TFIDFRandomForestPipeline = Pipeline([\n",
    "    ('preprocessor', FunctionTransformer(DataProcessor(\"\").process_data, validate=False)),\n",
    "    ('vectorizer', TfidfVectorizer()),\n",
    "    ('classifier', RandomForestClassifier(random_state=42, bootstrap=False, criterion=\"gini\", max_depth=None, max_features=\"log2\", min_samples_leaf=1, min_samples_split=5, n_estimators=200))\n",
    "])\n",
    "\n",
    "dump(TFIDFRandomForestPipeline, '../models/TFIDFRandomForest/TFIDFRandomForest.pkl')"
   ]
  },
  {
   "cell_type": "markdown",
   "id": "96901e73",
   "metadata": {},
   "source": [
    "# Prediction of Unlabeled Data with best finded Model"
   ]
  },
  {
   "cell_type": "code",
   "execution_count": 160,
   "id": "d04dadf3",
   "metadata": {},
   "outputs": [
    {
     "name": "stdout",
     "output_type": "stream",
     "text": [
      "Reading Training raw Data\n",
      "Reading Unlabeled raw Data\n",
      "Loading Pipeline\n",
      "Fitting Pipeline with training data\n",
      "Prediction Unlabeled data\n",
      "Predictions of unlabeled data saved in data/predicted/SinEtiquetatest_cat_6716_clasificado.csv\n"
     ]
    }
   ],
   "source": [
    "print(\"Reading Training raw Data\")\n",
    "X_train = pd.read_excel(\"../data/raw/cat_6716.xlsx\").Textos_espanol\n",
    "y_train = pd.read_excel(\"../data/raw/cat_6716.xlsx\").sdg\n",
    "\n",
    "print(\"Reading Unlabeled raw Data\")\n",
    "X_test = pd.read_excel(\"../data/raw/SinEtiquetatest_cat_6716.xlsx\").Textos_espanol\n",
    "\n",
    "print(\"Loading Pipeline\")\n",
    "loaded_pipeline = load('../models/TFIDFRandomForest/TFIDFRandomForest.pkl')\n",
    "\n",
    "print(\"Fitting Pipeline with training data\")\n",
    "loaded_pipeline.fit(X_train, y_train)\n",
    "print(\"Prediction Unlabeled data\")\n",
    "np.savetxt(\"data/predicted/SinEtiquetatest_cat_6716_clasificado.csv\", loaded_pipeline.predict(X_test), delimiter=',', fmt='%s')\n",
    "print(\"Predictions of unlabeled data saved in data/predicted/SinEtiquetatest_cat_6716_clasificado.csv\")"
   ]
  }
 ],
 "metadata": {
  "kernelspec": {
   "display_name": "Python 3 (ipykernel)",
   "language": "python",
   "name": "python3"
  },
  "language_info": {
   "codemirror_mode": {
    "name": "ipython",
    "version": 3
   },
   "file_extension": ".py",
   "mimetype": "text/x-python",
   "name": "python",
   "nbconvert_exporter": "python",
   "pygments_lexer": "ipython3",
   "version": "3.10.11"
  }
 },
 "nbformat": 4,
 "nbformat_minor": 5
}
